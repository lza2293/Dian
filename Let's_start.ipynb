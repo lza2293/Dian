{
 "cells": [
  {
   "cell_type": "code",
   "execution_count": 1,
   "metadata": {},
   "outputs": [],
   "source": [
    "import tensorflow as tf\n",
    "import numpy as np\n",
    "import matplotlib.pyplot as plt\n",
    "import skimage\n",
    "import pandas as pd\n",
    "import os\n",
    "import seaborn as sns\n",
    "from skimage import transform, io\n",
    "from tensorflow.keras import Model\n",
    "from tensorflow.keras.layers import Dense, Conv2D, MaxPool2D, BatchNormalization, Dropout,Activation,Flatten, AvgPool2D"
   ]
  },
  {
   "cell_type": "code",
   "execution_count": 2,
   "metadata": {},
   "outputs": [],
   "source": [
    "x_train_dir = './data/train_x.npy'\n",
    "# x_label_dir = './data/train_y.npy'\n",
    "\n",
    "X_train = np.load(x_train_dir, allow_pickle=True)\n",
    "# X_label = np.load(x_label_dir, allow_pickle=True)"
   ]
  },
  {
   "cell_type": "code",
   "execution_count": 3,
   "metadata": {},
   "outputs": [
    {
     "name": "stdout",
     "output_type": "stream",
     "text": [
      "[[1 1 1 ... 0 0 0]\n",
      " [0 0 0 ... 0 0 0]\n",
      " [0 0 0 ... 0 0 0]\n",
      " ...\n",
      " [0 0 0 ... 1 0 0]\n",
      " [0 0 0 ... 0 0 0]\n",
      " [0 0 0 ... 0 0 0]]\n"
     ]
    }
   ],
   "source": [
    "x_label_dir = './data/new_labels.csv'\n",
    "X_label = pd.read_csv(x_label_dir).values\n",
    "X_label = X_label[:,1:]\n",
    "print(X_label)"
   ]
  },
  {
   "cell_type": "code",
   "execution_count": 139,
   "metadata": {},
   "outputs": [],
   "source": [
    "words_dir = 'D:\\\\GIT\\\\Dian\\\\labels\\\\words'\n",
    "words = pd.read_csv(words_dir, header=None)"
   ]
  },
  {
   "cell_type": "code",
   "execution_count": 140,
   "metadata": {},
   "outputs": [
    {
     "name": "stdout",
     "output_type": "stream",
     "text": [
      "            0\n",
      "0        city\n",
      "1    mountain\n",
      "2         sky\n",
      "3         sun\n",
      "4       water\n",
      "..        ...\n",
      "369      maui\n",
      "370    school\n",
      "371     canoe\n",
      "372      race\n",
      "373    hawaii\n",
      "\n",
      "[374 rows x 1 columns]\n"
     ]
    }
   ],
   "source": [
    "print(words)"
   ]
  },
  {
   "cell_type": "markdown",
   "metadata": {},
   "source": [
    "## Loss"
   ]
  },
  {
   "cell_type": "code",
   "execution_count": 98,
   "metadata": {},
   "outputs": [],
   "source": [
    "def myLoss(y_true, y_pred):\n",
    "#     print(tf.reduce_mean(y_pred))\n",
    "    y_true = tf.cast(y_true, dtype = tf.float32)\n",
    "    return tf.nn.sigmoid_cross_entropy_with_logits(labels = y_true, logits=y_pred)"
   ]
  },
  {
   "cell_type": "code",
   "execution_count": 36,
   "metadata": {},
   "outputs": [],
   "source": [
    "@tf.function\n",
    "def macro_soft_f1(y, y_hat):\n",
    "    \"\"\"Compute the macro soft F1-score as a cost (average 1 - soft-F1 across all labels).\n",
    "    Use probability values instead of binary predictions.\n",
    "    \n",
    "    Args:\n",
    "        y (int32 Tensor): targets array of shape (BATCH_SIZE, N_LABELS)\n",
    "        y_hat (float32 Tensor): probability matrix from forward propagation of shape (BATCH_SIZE, N_LABELS)\n",
    "        \n",
    "    Returns:\n",
    "        cost (scalar Tensor): value of the cost function for the batch\n",
    "    \"\"\"\n",
    "    y = tf.cast(y, tf.float32)\n",
    "    y_hat = tf.cast(y_hat, tf.float32)\n",
    "    tp = tf.reduce_sum(y_hat * y, axis=0)\n",
    "    fp = tf.reduce_sum(y_hat * (1 - y), axis=0)\n",
    "    fn = tf.reduce_sum((1 - y_hat) * y, axis=0)\n",
    "    soft_f1 = 2*tp / (2*tp + fn + fp + 1e-16)\n",
    "    cost = 1 - soft_f1 # reduce 1 - soft-f1 in order to increase soft-f1\n",
    "    macro_cost = tf.reduce_mean(cost) # average on all labels\n",
    "    return macro_cost"
   ]
  },
  {
   "cell_type": "markdown",
   "metadata": {},
   "source": [
    "## Accuracy"
   ]
  },
  {
   "cell_type": "code",
   "execution_count": 15,
   "metadata": {},
   "outputs": [],
   "source": [
    "class Myaccuracy(tf.keras.metrics.Metric):\n",
    "    def __init__(self):\n",
    "        super().__init__()\n",
    "#         self.tp = self.add_weight(name = 'tp', dtype = tf.int32, initializer=tf.zeros_initializer)\n",
    "#         self.fp = self.add_weight(name = 'fp', dtype = tf.int32, initializer=tf.zeros_initializer)\n",
    "#         self.fn = self.add_weight(name = 'fn', dtype = tf.int32, initializer=tf.zeros_initializer)\n",
    "        self.f1 = self.add_weight(name = 'f1', dtype = tf.float32, initializer=tf.zeros_initializer())\n",
    "    def update_state(self, y_true, y_pred):\n",
    "        thresh = 0.5\n",
    "        y_pred = tf.cast(tf.greater(y_pred, thresh), tf.float32)\n",
    "        self.tp = tf.cast(tf.math.count_nonzero(y_pred * y_true), axis = 0, dtype=tf.float32)\n",
    "        self.fp = tf.cast(tf.math.count_nonzero(y_pred * (1 - y_true), axis=0), tf.float32)\n",
    "        self.fn = tf.cast(tf.math.count_nonzero((1 - y_pred) * y_true, axis=0), tf.float32)\n",
    "        self.f1.assign_add(2*self.tp / (2*self.tp + self.fn + self.fp + 1e-16))\n",
    "    def result(self):\n",
    "        return self.f1"
   ]
  },
  {
   "cell_type": "code",
   "execution_count": 27,
   "metadata": {},
   "outputs": [],
   "source": [
    "@tf.function\n",
    "def macro_f1(y, y_hat, thresh=0.5):\n",
    "    \"\"\"Compute the macro F1-score on a batch of observations (average F1 across labels)\n",
    "    \n",
    "    Args:\n",
    "        y (int32 Tensor): labels array of shape (BATCH_SIZE, N_LABELS)\n",
    "        y_hat (float32 Tensor): probability matrix from forward propagation of shape (BATCH_SIZE, N_LABELS)\n",
    "        thresh: probability value above which we predict positive\n",
    "        \n",
    "    Returns:\n",
    "        macro_f1 (scalar Tensor): value of macro F1 for the batch\n",
    "    \"\"\"\n",
    "    y = tf.cast(y, dtype=tf.float32)\n",
    "    y_pred = tf.cast(tf.greater(y_hat, thresh), tf.float32)\n",
    "    tp = tf.cast(tf.math.count_nonzero(y_pred * y, axis=0), tf.float32)\n",
    "    fp = tf.cast(tf.math.count_nonzero(y_pred * (1 - y), axis=0), tf.float32)\n",
    "    fn = tf.cast(tf.math.count_nonzero((1 - y_pred) * y, axis=0), tf.float32)\n",
    "    f1 = 2*tp / (2*tp + fn + fp + 1e-16)\n",
    "    macro_f1 = tf.reduce_mean(f1)\n",
    "    return macro_f1"
   ]
  },
  {
   "cell_type": "code",
   "execution_count": 215,
   "metadata": {},
   "outputs": [],
   "source": [
    "@tf.function\n",
    "def test_f1(y, y_hat, thresh=0.5):\n",
    "    \"\"\"Compute the macro F1-score on a batch of observations (average F1 across labels)\n",
    "    \n",
    "    Args:\n",
    "        y (int32 Tensor): labels array of shape (BATCH_SIZE, N_LABELS)\n",
    "        y_hat (float32 Tensor): probability matrix from forward propagation of shape (BATCH_SIZE, N_LABELS)\n",
    "        thresh: probability value above which we predict positive\n",
    "        \n",
    "    Returns:\n",
    "        macro_f1 (scalar Tensor): value of macro F1 for the batch\n",
    "    \"\"\"\n",
    "    y = tf.cast(y, dtype=tf.float32)\n",
    "    y_pred = tf.cast(tf.greater(y_hat, thresh), tf.float32)\n",
    "    tp = tf.cast(tf.math.count_nonzero(y_pred * y, axis=0), tf.float32)\n",
    "    macro_f1 = tf.reduce_mean(tp)\n",
    "    return macro_f1"
   ]
  },
  {
   "cell_type": "markdown",
   "metadata": {},
   "source": [
    "### Add Layer"
   ]
  },
  {
   "cell_type": "code",
   "execution_count": 182,
   "metadata": {},
   "outputs": [],
   "source": [
    "class addLayer(tf.keras.layers.Layer):\n",
    "    def __init__(self, units):\n",
    "        super().__init__()\n",
    "        self.units = units\n",
    "    def build(self, input_shape):\n",
    "        self.w1 = self.add_weight(name = 'w1', shape = [input_shape[-1], self.units], initializer=tf.random_normal_initializer(mean = 0.2))\n",
    "        self.w2 = self.add_weight(name = 'w2', shape = [input_shape[-1], self.units], initializer=tf.random_normal_initializer(mean = 0.8))\n",
    "    def call(self, input1, input2):\n",
    "        y_pred = tf.matmul(input1, self.w1) + tf.matmul(input2, self.w2)\n",
    "        return y_pred\n",
    "        "
   ]
  },
  {
   "cell_type": "code",
   "execution_count": 22,
   "metadata": {},
   "outputs": [],
   "source": [
    "tf.config.experimental_run_functions_eagerly(True)"
   ]
  },
  {
   "cell_type": "code",
   "execution_count": 224,
   "metadata": {},
   "outputs": [
    {
     "name": "stdout",
     "output_type": "stream",
     "text": [
      "--------loading------------\n",
      "Train on 3600 samples, validate on 900 samples\n",
      "3600/3600 [==============================] - 123s 34ms/sample - loss: 0.9810 - macro_f1: 0.0101 - val_loss: 0.9721 - val_macro_f1: 0.0070\n",
      "Model: \"conv_82\"\n",
      "_________________________________________________________________\n",
      "Layer (type)                 Output Shape              Param #   \n",
      "=================================================================\n",
      "conv2d_141 (Conv2D)          multiple                  168       \n",
      "_________________________________________________________________\n",
      "batch_normalization_4 (Batch multiple                  24        \n",
      "_________________________________________________________________\n",
      "activation_3 (Activation)    multiple                  0         \n",
      "_________________________________________________________________\n",
      "conv2d_142 (Conv2D)          multiple                  660       \n",
      "_________________________________________________________________\n",
      "batch_normalization_5 (Batch multiple                  48        \n",
      "_________________________________________________________________\n",
      "activation_4 (Activation)    multiple                  0         \n",
      "_________________________________________________________________\n",
      "max_pooling2d_94 (MaxPooling multiple                  0         \n",
      "_________________________________________________________________\n",
      "flatten_150 (Flatten)        multiple                  0         \n",
      "_________________________________________________________________\n",
      "dense_231 (Dense)            multiple                  11895296  \n",
      "_________________________________________________________________\n",
      "dense_232 (Dense)            multiple                  176472    \n",
      "=================================================================\n",
      "Total params: 12,072,668\n",
      "Trainable params: 12,072,632\n",
      "Non-trainable params: 36\n",
      "_________________________________________________________________\n"
     ]
    }
   ],
   "source": [
    "class Conv(Model):\n",
    "    def __init__(self):\n",
    "        super(Conv, self).__init__()\n",
    "#         self.p1 = AvgPool2D(pool_size=4, strides=4)\n",
    "#         self.flatten1 = Flatten()\n",
    "#         self.d3 = Dense(512, activation = 'tanh', kernel_initializer=tf.keras.initializers.RandomNormal(mean = 0.05))\n",
    "        \n",
    "        self.c1 = Conv2D(filters = 6, kernel_size=3, strides=1, padding='same',)\n",
    "        self.b1 = BatchNormalization()\n",
    "        self.a1 = Activation('relu')\n",
    "        self.c2 = Conv2D(filters = 12, kernel_size=3, strides=1, padding='same')\n",
    "        self.b2 = BatchNormalization()\n",
    "        self.a2 = Activation('tanh')\n",
    "        self.p3 = MaxPool2D(pool_size=(4, 4), strides=4, padding='valid')\n",
    "        self.flatten2 = Flatten()\n",
    "        self.d1 = Dense(512, activation='relu', kernel_initializer=tf.keras.initializers.RandomNormal(mean = 0.00, stddev = 0.01))\n",
    "#         self.d2 = Dense(344, activation='sigmoid')\n",
    "        self.d2 = Dense(344, kernel_initializer=tf.keras.initializers.RandomNormal(mean = 0.0))\n",
    "        \n",
    "#         self.addlayer = addLayer(512)\n",
    "    @tf.function\n",
    "    def call(self, x):\n",
    "#         x1 = self.p1(x)\n",
    "#         x1 = self.flatten1(x1)\n",
    "#         x1 = self.d3(x1)\n",
    "        \n",
    "        x2 = self.c1(x)\n",
    "        x2 = self.b1(x2)\n",
    "        x2 = self.a1(x2)\n",
    "        \n",
    "        x2 = self.c2(x2)\n",
    "        x2 = self.b2(x2)\n",
    "        x2 = self.a2(x2)\n",
    "        \n",
    "        x2 = self.p3(x2)\n",
    "        x2 = self.flatten2(x2)     \n",
    "        x2 = self.d1(x2)\n",
    "        \n",
    "#         x2 = self.addlayer(x1, x2)\n",
    "#         x2 = x2 + x1\n",
    "        y = self.d2(x2)\n",
    "        return y\n",
    "    \n",
    "model = Conv()\n",
    "\n",
    "model.compile(optimizer = tf.keras.optimizers.Adam(learning_rate=0.03), loss = macro_soft_f1, metrics = [macro_f1])\n",
    "# model.compile(optimizer = tf.keras.optimizers.Adam(learning_rate=0.001), loss = myLoss, metrics = [test_f1])\n",
    "\n",
    "checkpoint_path = './checkpoint/Check.ckpt'\n",
    "\n",
    "if os.path.exists(checkpoint_path + '.index'):\n",
    "    print('--------loading------------')\n",
    "    model.load_weights(checkpoint_path)\n",
    "    \n",
    "cp_callback = tf.keras.callbacks.ModelCheckpoint(checkpoint_path)\n",
    "\n",
    "history = model.fit(X_train, X_label, batch_size = 64, epochs = 1, validation_split = 0.2,\n",
    "                   validation_freq = 1, callbacks = [cp_callback])\n",
    "\n",
    "\n",
    "model.summary()"
   ]
  },
  {
   "cell_type": "code",
   "execution_count": 211,
   "metadata": {},
   "outputs": [
    {
     "data": {
      "image/png": "[encoded data removed]",
      "text/plain": [
       "<Figure size 432x288 with 2 Axes>"
      ]
     },
     "metadata": {
      "needs_background": "light"
     },
     "output_type": "display_data"
    }
   ],
   "source": [
    "f1 = history.history['macro_f1']\n",
    "val_f1 = history.history['val_macro_f1']\n",
    "loss = history.history['loss']\n",
    "val_loss = history.history['val_loss']\n",
    "\n",
    "plt.subplot(1, 2, 1)\n",
    "plt.plot(loss, label = 'training loss')\n",
    "plt.plot(val_loss, label = 'val loss')\n",
    "plt.legend()\n",
    "\n",
    "plt.subplot(1, 2, 2)\n",
    "plt.plot(f1, label = 'training f1')\n",
    "plt.plot(val_f1, label = 'val f1')\n",
    "plt.legend()\n",
    "\n",
    "plt.show()"
   ]
  },
  {
   "cell_type": "code",
   "execution_count": 181,
   "metadata": {},
   "outputs": [],
   "source": [
    "file = open('./weights.txt', 'w')\n",
    "for v in model.trainable_variables:\n",
    "    file.write(str(v.name) + '\\n')\n",
    "    file.write(str(v.shape) + '\\n')\n",
    "    file.write(str(v.numpy()) + '\\n')\n",
    "\n",
    "file.close()"
   ]
  },
  {
   "cell_type": "code",
   "execution_count": 223,
   "metadata": {},
   "outputs": [
    {
     "name": "stdout",
     "output_type": "stream",
     "text": [
      "WARNING:tensorflow:Layer conv_81 is casting an input tensor from dtype float64 to the layer's dtype of float32, which is new behavior in TensorFlow 2.  The layer has dtype float32 because it's dtype defaults to floatx.\n",
      "\n",
      "If you intended to run this layer in float32, you can safely ignore this warning. If in doubt, this warning is likely only an issue if you are porting a TensorFlow 1.X model to TensorFlow 2.\n",
      "\n",
      "To change all layers to have dtype float64 by default, call `tf.keras.backend.set_floatx('float64')`. To change just this layer, pass dtype='float64' to the layer constructor. If you are the author of this layer, you can disable autocasting by passing autocast=False to the base Layer constructor.\n",
      "\n",
      "tf.Tensor(\n",
      "[[ -9.618457    -9.051194     0.1956786  -11.306844    -2.502284\n",
      "  -12.58729     -8.167072    -4.083183   -16.68796     -1.8373895\n",
      "  -10.473136    -6.7043543   -8.5410185  -11.998564   -10.504842\n",
      "   -8.700628    -4.176539   -12.004188   -18.56776    -16.803623\n",
      "   -9.248833    -6.72508     -6.3826447  -11.451312    -3.235696\n",
      "  -13.185269    -8.864828    -6.247073    -7.8455133   -7.9555717\n",
      "   -1.8270142  -12.112698    -3.9657073   -7.8376946  -12.294483\n",
      "   -8.505979    -3.9385707  -12.229969    -7.610136   -10.910282\n",
      "   -3.3684824  -17.640442   -11.981231    -1.2790476   -6.588294\n",
      "   -2.5639777   -9.308308    -3.802352   -14.25183     -4.4004593\n",
      "   -9.614474   -15.160236   -10.728193   -14.240761   -15.00338\n",
      "   -9.158601   -11.429612    -5.035772    -5.8136463    0.4394137\n",
      "   -4.201325   -14.326804    -5.274999    -4.2584243   -5.374821\n",
      "   -7.353439    -7.7618246  -15.417368    -5.045616    -7.590548\n",
      "   -9.482145    -3.7768402   -1.1790125  -10.913224    -5.0876336\n",
      "  -12.383343   -13.457618   -11.812055   -13.886097    -3.4878514\n",
      "   -5.629435    -7.191017    -6.2610517   -5.355385   -17.870832\n",
      "   -6.912348    -4.192645   -10.602008    -6.476613    -5.7110734\n",
      "    1.3193661   -7.840285   -11.216362   -12.527427   -10.427904\n",
      "   -7.5909114  -12.40022     -1.5201693   -1.8427898   -9.671035\n",
      "   -7.489542   -10.3567      -4.999831   -12.913393    -8.772557\n",
      "   -5.9396114  -12.138427    -7.214849   -10.865721    -1.4991051\n",
      "   -7.982819    -8.891233   -10.068288   -14.502402   -14.1578245\n",
      "   -8.062146    -1.6861537  -14.046578   -12.731037    -4.972671\n",
      "  -13.302547    -4.8509154   -2.0770295   -9.256515   -12.734089\n",
      "   -6.706437    -5.7438526  -20.055416    -1.8005884   -8.515439\n",
      "   -5.8807      -9.807132   -14.860395    -8.152069    -7.1852655\n",
      "   -8.755153    -9.448702    -3.61183    -15.505848    -5.5374193\n",
      "   -7.451385   -10.33786     -7.358717    -2.5064924  -12.000878\n",
      "   -7.682911   -13.665626    -6.352157    -5.171592   -10.274085\n",
      "   -6.0318513  -16.163574   -11.936341   -15.380468   -10.770427\n",
      "   -9.614845    -8.935439    -6.9742794  -12.459033    -6.1540394\n",
      "   -8.358289    -3.7240257   -1.8991048  -11.340598    -7.5647497\n",
      "  -10.626533   -11.857068   -10.088942   -11.851117    -6.6994953\n",
      "   -7.541716   -10.410433    -0.7763802   -3.7539804   -7.189696\n",
      "   -4.353652    -8.260503    -2.717554   -13.3729515   -9.584688\n",
      "  -13.060656   -12.219591    -6.903162    -8.872304    -2.7647111\n",
      "  -11.951152    -7.4720554  -19.019434   -10.512821    -0.50306594\n",
      "   -8.174332    -8.357849    -0.5554142   -3.6994236   -6.853613\n",
      "   -6.380873   -14.742536    -4.795847    -9.906434   -12.57409\n",
      "  -10.298751    -8.312912    -4.379241   -13.147381   -10.341087\n",
      "  -12.356723    -5.6110435   -8.607179    -7.476093    -8.657532\n",
      "  -12.596447   -11.412354   -10.138871    -4.910875    -0.08201387\n",
      "   -5.2638335   -8.526054    -8.285015   -17.042995   -10.677391\n",
      "   -6.042662    -9.476273   -14.000235   -10.72693    -10.476076\n",
      "   -9.514425   -14.397221    -3.9959686   -1.6890808   -2.9171019\n",
      "   -9.788846    -4.6064944  -14.895322   -16.134287    -7.322806\n",
      "  -12.382705   -10.998022   -11.766515   -11.064394   -17.799667\n",
      "   -2.2820485   -1.5063426  -14.213637    -6.3026633   -9.067916\n",
      "   -8.911278    -7.116822     0.7581728   -8.7003145  -14.525377\n",
      "  -14.838795   -21.46643     -6.635604    -4.46128     -6.1751575\n",
      "   -5.787806     0.1836374  -17.753843    -7.0277243   -6.9197044\n",
      "  -13.680276    -9.352795    -8.709144   -12.085016   -13.043403\n",
      "   -4.454394   -12.877331   -16.135883   -15.442074   -16.956299\n",
      "  -12.23708    -17.695024    -9.3368635  -12.056182    -8.763481\n",
      "   -2.2949898   -4.8098035  -15.794853   -12.630535   -13.634747\n",
      "   -0.22066201  -3.2367349   -3.967189    -7.3314633  -19.450193\n",
      "    0.34473693 -15.473071    -7.88231    -19.349113   -12.464766\n",
      "   -4.572755    -7.467336   -15.634031    -7.9629498   -6.3338575\n",
      "   -3.171232    -7.3677425   -9.301138    -8.312679   -14.482644\n",
      "   -6.3660583  -11.431324    -5.6483984   -3.0776205   -9.885357\n",
      "  -12.483242    -9.048706    -7.913956   -14.405352    -0.18348943\n",
      "  -13.884384    -6.894965    -7.701857   -10.666836    -6.9520617\n",
      "  -19.376244    -4.232648   -15.160164     0.69844055 -10.018063\n",
      "  -21.076418    -5.1762466   -3.825499    -5.045007   -13.378876\n",
      "  -14.913114    -1.5487328  -11.653482    -4.448615    -9.816851\n",
      "  -12.00498     -5.1782913   -5.44544    -14.560437    -7.026369\n",
      "   -6.034634   -19.819393    -7.557056   -17.122662    -4.0203676\n",
      "  -20.10939     -9.58722     -9.522768    -4.1978617 ]], shape=(1, 344), dtype=float32)\n",
      "90          path\n",
      "247         pots\n",
      "318    porcupine\n",
      "Name: 0, dtype: object\n"
     ]
    }
   ],
   "source": [
    "result = model(X_train[2:3])\n",
    "# result = tf.nn.sigmoid(result)\n",
    "print(result)\n",
    "result = tf.cast(result > 0.5, dtype=tf.int32).numpy()\n",
    "result = np.nonzero(result)\n",
    "print(words[0][result[1]])"
   ]
  },
  {
   "cell_type": "code",
   "execution_count": 61,
   "metadata": {
    "scrolled": true
   },
   "outputs": [
    {
     "data": {
      "text/plain": [
       "<tf.Tensor: shape=(2, 2), dtype=float32, numpy=\n",
       "array([[4.5398898e-05, 6.9314718e-01],\n",
       "       [3.0485873e+00, 1.3132617e+00]], dtype=float32)>"
      ]
     },
     "execution_count": 61,
     "metadata": {},
     "output_type": "execute_result"
    }
   ],
   "source": [
    "a = np.array([[0, 0],[1, 0]], dtype = np.float32)\n",
    "b = np.array([[-10, 0],[-3, 1]], dtype = np.float32)\n",
    "tf.nn.sigmoid_cross_entropy_with_logits(a, b)"
   ]
  },
  {
   "cell_type": "code",
   "execution_count": 52,
   "metadata": {},
   "outputs": [
    {
     "name": "stdout",
     "output_type": "stream",
     "text": [
      "[[1.67015613e-05 8.00033541e+00 7.00091147e+00]\n",
      " [1.00000454e+01 8.31528373e-07 3.04858735e+00]\n",
      " [1.31326169e+00 2.12692801e+00 1.81499279e-02]]\n",
      ".............\n",
      "[[1.31326169e+00 3.35406373e-04 7.00091147e+00]\n",
      " [4.53988992e-05 8.31528373e-07 3.04858735e+00]\n",
      " [1.31326169e+00 2.12692801e+00 1.81499279e-02]]\n",
      ".............\n",
      "tf.Tensor(\n",
      "[[1.67015613e-05 8.00033541e+00 7.00091147e+00]\n",
      " [1.00000454e+01 8.31528373e-07 3.04858735e+00]\n",
      " [1.31326169e+00 2.12692801e+00 1.81499279e-02]], shape=(3, 3), dtype=float64)\n",
      ".............\n",
      "tf.Tensor(\n",
      "[[1.31326169e+00 3.35406373e-04 7.00091147e+00]\n",
      " [4.53988992e-05 8.31528373e-07 3.04858735e+00]\n",
      " [1.31326169e+00 2.12692801e+00 1.81499279e-02]], shape=(3, 3), dtype=float64)\n"
     ]
    }
   ],
   "source": [
    "import numpy as np\n",
    "import tensorflow as tf\n",
    " \n",
    "def sigmoid(x):\n",
    "    return 1.0/(1+np.exp(-x))\n",
    " \n",
    "labels=np.array([[1.,0.,0.],[0.,1.,0.],[0.,0.,1.]])\n",
    "logits=np.array([[11.,8.,7.],[10.,14.,3.],[1.,2.,4.]])\n",
    "y_pred=sigmoid(logits)\n",
    "prob_error1=-labels*np.log(y_pred)-(1-labels)*np.log(1-y_pred)\n",
    "print(prob_error1)\n",
    " \n",
    "print(\".............\")\n",
    "labels1=np.array([[0.,1.,0.],[1.,1.,0.],[0.,0.,1.]])#不一定只属于一个类别\n",
    "logits1=np.array([[1.,8.,7.],[10.,14.,3.],[1.,2.,4.]])\n",
    "y_pred1=sigmoid(logits1)\n",
    "prob_error11=-labels1*np.log(y_pred1)-(1-labels1)*np.log(1-y_pred1)\n",
    "print(prob_error11)\n",
    " \n",
    "print(\".............\")\n",
    "print(tf.nn.sigmoid_cross_entropy_with_logits(labels=labels,logits=logits))\n",
    "print(\".............\")\n",
    "print(tf.nn.sigmoid_cross_entropy_with_logits(labels=labels1,logits=logits1))"
   ]
  }
 ],
 "metadata": {
  "hide_input": false,
  "kernelspec": {
   "display_name": "Python 3",
   "language": "python",
   "name": "python3"
  },
  "language_info": {
   "codemirror_mode": {
    "name": "ipython",
    "version": 3
   },
   "file_extension": ".py",
   "mimetype": "text/x-python",
   "name": "python",
   "nbconvert_exporter": "python",
   "pygments_lexer": "ipython3",
   "version": "3.7.4"
  }
 },
 "nbformat": 4,
 "nbformat_minor": 4
}
